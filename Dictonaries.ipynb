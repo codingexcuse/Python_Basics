{
 "cells": [
  {
   "cell_type": "code",
   "execution_count": 1,
   "id": "9856afa7",
   "metadata": {},
   "outputs": [],
   "source": [
    "# Dictionaries: these are unordered collection of items"
   ]
  },
  {
   "cell_type": "code",
   "execution_count": 6,
   "id": "67277fe4",
   "metadata": {},
   "outputs": [
    {
     "name": "stdout",
     "output_type": "stream",
     "text": [
      "{1: 'Mahi', 2: 'vikas'}\n",
      "{1: 'Dhoni', 'vikas': 2}\n",
      "{(2, 'Jayanthi_vikas'), (1, 'Mahendra_singh_Dhoni')}\n"
     ]
    }
   ],
   "source": [
    "# empty dictonary:\n",
    "my_dict = {}\n",
    "\n",
    "# Dictonary with integer keys:\n",
    "my_dict = {1:\"Mahi\", 2: \"vikas\"}\n",
    "print(my_dict)\n",
    "\n",
    "# Dictonary with mixed keys\n",
    "my_dict = {1: \"Dhoni\",\"vikas\" : 2}\n",
    "print(my_dict)\n",
    "    \n",
    "# Dictonary with list of tuples:\n",
    "my_dict = {(1,\"Mahendra_singh_Dhoni\"),(2,\"Jayanthi_vikas\")}\n",
    "print(my_dict)\n"
   ]
  },
  {
   "cell_type": "code",
   "execution_count": 12,
   "id": "fb61c781",
   "metadata": {},
   "outputs": [
    {
     "data": {
      "text/plain": [
       "dict_keys([1, 2])"
      ]
     },
     "execution_count": 12,
     "metadata": {},
     "output_type": "execute_result"
    }
   ],
   "source": [
    "my_dict = {1:\"Mahi\", 2: \"vikas\"}\n",
    "my_dict.keys()"
   ]
  },
  {
   "cell_type": "code",
   "execution_count": 13,
   "id": "5e605b67",
   "metadata": {},
   "outputs": [
    {
     "data": {
      "text/plain": [
       "dict_values(['Mahi', 'vikas'])"
      ]
     },
     "execution_count": 13,
     "metadata": {},
     "output_type": "execute_result"
    }
   ],
   "source": [
    "my_dict.values()"
   ]
  },
  {
   "cell_type": "code",
   "execution_count": 14,
   "id": "06d6254c",
   "metadata": {},
   "outputs": [],
   "source": [
    "my_dict.clear()"
   ]
  },
  {
   "cell_type": "code",
   "execution_count": 15,
   "id": "e77e0ece",
   "metadata": {},
   "outputs": [
    {
     "data": {
      "text/plain": [
       "{}"
      ]
     },
     "execution_count": 15,
     "metadata": {},
     "output_type": "execute_result"
    }
   ],
   "source": [
    "my_dict # empty because we have cleared it "
   ]
  },
  {
   "cell_type": "code",
   "execution_count": 19,
   "id": "2498584d",
   "metadata": {},
   "outputs": [],
   "source": [
    "my_dict = {1:\"Mahi\", 2: \"vikas\"}"
   ]
  },
  {
   "cell_type": "code",
   "execution_count": 20,
   "id": "b6850d3c",
   "metadata": {},
   "outputs": [
    {
     "data": {
      "text/plain": [
       "'vikas'"
      ]
     },
     "execution_count": 20,
     "metadata": {},
     "output_type": "execute_result"
    }
   ],
   "source": [
    "my_dict.pop(2)"
   ]
  },
  {
   "cell_type": "code",
   "execution_count": 21,
   "id": "42fc1829",
   "metadata": {},
   "outputs": [
    {
     "data": {
      "text/plain": [
       "{1: 'Mahi'}"
      ]
     },
     "execution_count": 21,
     "metadata": {},
     "output_type": "execute_result"
    }
   ],
   "source": [
    "my_dict"
   ]
  },
  {
   "cell_type": "code",
   "execution_count": 22,
   "id": "7e469b54",
   "metadata": {},
   "outputs": [],
   "source": [
    "my_dict = {1:\"Mahi\", 2: \"vikas\"}"
   ]
  },
  {
   "cell_type": "code",
   "execution_count": 95,
   "id": "16d529e7",
   "metadata": {},
   "outputs": [],
   "source": [
    "my_dict = {1:\"Mahi\", 2: \"vikas\",3:(\"Dhoni\",\"MSD\")}"
   ]
  },
  {
   "cell_type": "code",
   "execution_count": 96,
   "id": "f726f3c6",
   "metadata": {},
   "outputs": [
    {
     "data": {
      "text/plain": [
       "'MSD'"
      ]
     },
     "execution_count": 96,
     "metadata": {},
     "output_type": "execute_result"
    }
   ],
   "source": [
    "my_dict[3][1]"
   ]
  },
  {
   "cell_type": "code",
   "execution_count": 97,
   "id": "ae6a1ef4",
   "metadata": {},
   "outputs": [
    {
     "ename": "KeyError",
     "evalue": "'vikas'",
     "output_type": "error",
     "traceback": [
      "\u001b[1;31m---------------------------------------------------------------------------\u001b[0m",
      "\u001b[1;31mKeyError\u001b[0m                                  Traceback (most recent call last)",
      "\u001b[1;32m<ipython-input-97-0342ce38c88c>\u001b[0m in \u001b[0;36m<module>\u001b[1;34m\u001b[0m\n\u001b[0;32m      1\u001b[0m \u001b[1;31m# we can access only through keys not through values: so it is error\u001b[0m\u001b[1;33m\u001b[0m\u001b[1;33m\u001b[0m\u001b[1;33m\u001b[0m\u001b[0m\n\u001b[1;32m----> 2\u001b[1;33m \u001b[0mmy_dict\u001b[0m\u001b[1;33m[\u001b[0m\u001b[1;34m\"vikas\"\u001b[0m\u001b[1;33m]\u001b[0m\u001b[1;33m\u001b[0m\u001b[1;33m\u001b[0m\u001b[0m\n\u001b[0m",
      "\u001b[1;31mKeyError\u001b[0m: 'vikas'"
     ]
    }
   ],
   "source": [
    "# we can access only through keys not through values: so it is error\n",
    "my_dict[\"vikas\"]  "
   ]
  },
  {
   "cell_type": "code",
   "execution_count": 98,
   "id": "977ad95f",
   "metadata": {},
   "outputs": [
    {
     "name": "stdout",
     "output_type": "stream",
     "text": [
      "vikas\n"
     ]
    }
   ],
   "source": [
    "print(my_dict.get(2))"
   ]
  },
  {
   "cell_type": "code",
   "execution_count": 99,
   "id": "f3d41a13",
   "metadata": {},
   "outputs": [
    {
     "name": "stdout",
     "output_type": "stream",
     "text": [
      "None\n"
     ]
    }
   ],
   "source": [
    "# it wont give error it returns None instead of ERROR: better use this mostly\n",
    "print(my_dict.get(\"adress\"))  "
   ]
  },
  {
   "cell_type": "code",
   "execution_count": 100,
   "id": "76e0c822",
   "metadata": {},
   "outputs": [],
   "source": [
    "# adding to my Dictonary:\n",
    "my_dict [4] = \"Mahendra_Singh_Dhoni\""
   ]
  },
  {
   "cell_type": "code",
   "execution_count": 101,
   "id": "4bc3dcbd",
   "metadata": {},
   "outputs": [
    {
     "data": {
      "text/plain": [
       "{1: 'Mahi', 2: 'vikas', 3: ('Dhoni', 'MSD'), 4: 'Mahendra_Singh_Dhoni'}"
      ]
     },
     "execution_count": 101,
     "metadata": {},
     "output_type": "execute_result"
    }
   ],
   "source": [
    "my_dict"
   ]
  },
  {
   "cell_type": "code",
   "execution_count": 102,
   "id": "ea42dcba",
   "metadata": {},
   "outputs": [],
   "source": [
    "# update my_dict:\n",
    "my_dict [3] = \"Dhoni\""
   ]
  },
  {
   "cell_type": "code",
   "execution_count": 103,
   "id": "a17cba3f",
   "metadata": {},
   "outputs": [
    {
     "data": {
      "text/plain": [
       "{1: 'Mahi', 2: 'vikas', 3: 'Dhoni', 4: 'Mahendra_Singh_Dhoni'}"
      ]
     },
     "execution_count": 103,
     "metadata": {},
     "output_type": "execute_result"
    }
   ],
   "source": [
    "my_dict"
   ]
  },
  {
   "cell_type": "code",
   "execution_count": 104,
   "id": "7b86a0cb",
   "metadata": {},
   "outputs": [
    {
     "data": {
      "text/plain": [
       "(4, 'Mahendra_Singh_Dhoni')"
      ]
     },
     "execution_count": 104,
     "metadata": {},
     "output_type": "execute_result"
    }
   ],
   "source": [
    "my_dict.popitem()"
   ]
  },
  {
   "cell_type": "code",
   "execution_count": 105,
   "id": "05965bc3",
   "metadata": {},
   "outputs": [
    {
     "data": {
      "text/plain": [
       "{1: 'Mahi', 2: 'vikas', 3: 'Dhoni'}"
      ]
     },
     "execution_count": 105,
     "metadata": {},
     "output_type": "execute_result"
    }
   ],
   "source": [
    "my_dict"
   ]
  },
  {
   "cell_type": "code",
   "execution_count": 106,
   "id": "8f369750",
   "metadata": {},
   "outputs": [
    {
     "data": {
      "text/plain": [
       "{1: 'Mahi', 3: 'Dhoni'}"
      ]
     },
     "execution_count": 106,
     "metadata": {},
     "output_type": "execute_result"
    }
   ],
   "source": [
    "del my_dict[2]\n",
    "my_dict"
   ]
  },
  {
   "cell_type": "code",
   "execution_count": 108,
   "id": "3a2ed527",
   "metadata": {},
   "outputs": [
    {
     "data": {
      "text/plain": [
       "{1: 'Mahi', 3: 'Dhoni'}"
      ]
     },
     "execution_count": 108,
     "metadata": {},
     "output_type": "execute_result"
    }
   ],
   "source": [
    "# copy method:\n",
    "\n",
    "dictonary = my_dict.copy()\n",
    "dictonary"
   ]
  },
  {
   "cell_type": "code",
   "execution_count": 114,
   "id": "74961f67",
   "metadata": {},
   "outputs": [
    {
     "data": {
      "text/plain": [
       "{'maths': 100, 'python': 100, 'Machine_Learning': 100}"
      ]
     },
     "execution_count": 114,
     "metadata": {},
     "output_type": "execute_result"
    }
   ],
   "source": [
    "# .fromkeys() pairs the keys and values:\n",
    "Dictonary = {}.fromkeys([\"maths\",\"python\",\"Machine_Learning\"],100)\n",
    "Dictonary"
   ]
  },
  {
   "cell_type": "code",
   "execution_count": 115,
   "id": "8bc838c4",
   "metadata": {},
   "outputs": [
    {
     "data": {
      "text/plain": [
       "dict_items([(1, 'Mahi'), (3, 'Dhoni')])"
      ]
     },
     "execution_count": 115,
     "metadata": {},
     "output_type": "execute_result"
    }
   ],
   "source": [
    "my_dict.items()"
   ]
  },
  {
   "cell_type": "code",
   "execution_count": 117,
   "id": "ce52c8cd",
   "metadata": {},
   "outputs": [
    {
     "name": "stdout",
     "output_type": "stream",
     "text": [
      "['__class__', '__contains__', '__delattr__', '__delitem__', '__dir__', '__doc__', '__eq__', '__format__', '__ge__', '__getattribute__', '__getitem__', '__gt__', '__hash__', '__init__', '__init_subclass__', '__iter__', '__le__', '__len__', '__lt__', '__ne__', '__new__', '__reduce__', '__reduce_ex__', '__repr__', '__reversed__', '__setattr__', '__setitem__', '__sizeof__', '__str__', '__subclasshook__', 'clear', 'copy', 'fromkeys', 'get', 'items', 'keys', 'pop', 'popitem', 'setdefault', 'update', 'values']\n"
     ]
    }
   ],
   "source": [
    "d = {}\n",
    "print(dir(d))"
   ]
  },
  {
   "cell_type": "code",
   "execution_count": 118,
   "id": "3837942d",
   "metadata": {},
   "outputs": [
    {
     "data": {
      "text/plain": [
       "2"
      ]
     },
     "execution_count": 118,
     "metadata": {},
     "output_type": "execute_result"
    }
   ],
   "source": [
    "len(my_dict)"
   ]
  },
  {
   "cell_type": "code",
   "execution_count": 121,
   "id": "87165508",
   "metadata": {},
   "outputs": [
    {
     "name": "stdout",
     "output_type": "stream",
     "text": [
      "(1, 'Mahi')\n",
      "(3, 'Dhoni')\n"
     ]
    }
   ],
   "source": [
    "for i in my_dict.items():\n",
    "    print(i)"
   ]
  },
  {
   "cell_type": "code",
   "execution_count": 126,
   "id": "77181f8e",
   "metadata": {},
   "outputs": [
    {
     "data": {
      "text/plain": [
       "{'c': 3, 'd': 4, 'E': 5}"
      ]
     },
     "execution_count": 126,
     "metadata": {},
     "output_type": "execute_result"
    }
   ],
   "source": [
    "# Create dictonary with pairs whose value <2:\n",
    "d  = {\"a\":1,\"b\":2,\"c\":3,\"d\":4,\"E\":5}\n",
    "new_dict = {k:v for k ,v in d.items() if v > 2}\n",
    "new_dict"
   ]
  },
  {
   "cell_type": "code",
   "execution_count": 127,
   "id": "af96f80b",
   "metadata": {},
   "outputs": [
    {
     "data": {
      "text/plain": [
       "{'cc': 6, 'dc': 8, 'Ec': 10}"
      ]
     },
     "execution_count": 127,
     "metadata": {},
     "output_type": "execute_result"
    }
   ],
   "source": [
    "new_dict = {k + \"c\":v *2 for k ,v in d.items() if v > 2}\n",
    "new_dict"
   ]
  },
  {
   "cell_type": "code",
   "execution_count": null,
   "id": "ec9d5c62",
   "metadata": {},
   "outputs": [],
   "source": []
  }
 ],
 "metadata": {
  "kernelspec": {
   "display_name": "Python 3",
   "language": "python",
   "name": "python3"
  },
  "language_info": {
   "codemirror_mode": {
    "name": "ipython",
    "version": 3
   },
   "file_extension": ".py",
   "mimetype": "text/x-python",
   "name": "python",
   "nbconvert_exporter": "python",
   "pygments_lexer": "ipython3",
   "version": "3.8.8"
  }
 },
 "nbformat": 4,
 "nbformat_minor": 5
}

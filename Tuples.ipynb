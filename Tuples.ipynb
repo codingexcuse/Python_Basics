{
 "cells": [
  {
   "cell_type": "code",
   "execution_count": 2,
   "id": "13d192c3",
   "metadata": {},
   "outputs": [],
   "source": [
    "# tuples are immutable:\n",
    "# mutable: we can change the elements     ex:Lists \n",
    "# immutable : we cant change the elements ex:tuples"
   ]
  },
  {
   "cell_type": "code",
   "execution_count": 8,
   "id": "67a94bbb",
   "metadata": {},
   "outputs": [
    {
     "name": "stdout",
     "output_type": "stream",
     "text": [
      "(1, 2, 3)\n",
      "(1, 'vikas', 12.9)\n",
      "('vikas', 'dhoni')\n"
     ]
    }
   ],
   "source": [
    "# empty Tuple\n",
    "t = ()\n",
    "\n",
    "# Tuple having integers:\n",
    "t = (1,2,3)\n",
    "print(t)\n",
    "\n",
    "# Tuple with various data types:\n",
    "t = (1,\"vikas\",12.90)\n",
    "print(t)\n",
    "\n",
    "# nested Tuple:\n",
    "t = ((1,2,3),(\"vikas\",\"dhoni\"),102.90)\n",
    "print(t[1])\n",
    "\n",
    "# t(1) =\"cricket\" : it gives error because tuple is immutable"
   ]
  },
  {
   "cell_type": "code",
   "execution_count": 15,
   "id": "153714d5",
   "metadata": {},
   "outputs": [
    {
     "data": {
      "text/plain": [
       "0"
      ]
     },
     "execution_count": 15,
     "metadata": {},
     "output_type": "execute_result"
    }
   ],
   "source": [
    "# there are only two methods in tuples: count,index\n",
    "t=(1,2,3,4,5,6,7,8)\n",
    "t.count(1)\n",
    "t.index(1)"
   ]
  },
  {
   "cell_type": "code",
   "execution_count": 30,
   "id": "b0354c5d",
   "metadata": {},
   "outputs": [],
   "source": [
    "t = ((1,2,3),(\"vikas\",\"dhoni\"),102.90)\n"
   ]
  },
  {
   "cell_type": "code",
   "execution_count": 31,
   "id": "b9a292f9",
   "metadata": {},
   "outputs": [
    {
     "data": {
      "text/plain": [
       "'dhoni'"
      ]
     },
     "execution_count": 31,
     "metadata": {},
     "output_type": "execute_result"
    }
   ],
   "source": [
    "t[0][1]\n",
    "t[1][1]"
   ]
  },
  {
   "cell_type": "code",
   "execution_count": 35,
   "id": "d9d80d3f",
   "metadata": {},
   "outputs": [
    {
     "name": "stdout",
     "output_type": "stream",
     "text": [
      "<class 'str'>\n",
      "<class 'tuple'>\n",
      "<class 'tuple'>\n"
     ]
    }
   ],
   "source": [
    "#only type can recognized by the comma either string or tuple:\n",
    "\n",
    "tup = (\"Mahendra Singh Dhoni\")\n",
    "print(type(tup))\n",
    "t = (\"Mahendra Singh Dhoni\",)\n",
    "print(type(t))\n",
    "t = \"Mahendra Singh Dhoni\",\n",
    "print(type(t))"
   ]
  },
  {
   "cell_type": "code",
   "execution_count": 36,
   "id": "ceecec3f",
   "metadata": {},
   "outputs": [
    {
     "data": {
      "text/plain": [
       "(2, 3, 4)"
      ]
     },
     "execution_count": 36,
     "metadata": {},
     "output_type": "execute_result"
    }
   ],
   "source": [
    "t = (1,2,3,4,5,6,7)\n",
    "t[1:4]"
   ]
  },
  {
   "cell_type": "code",
   "execution_count": 45,
   "id": "88a58c5b",
   "metadata": {},
   "outputs": [
    {
     "data": {
      "text/plain": [
       "(1, 2, 3, 4, 5, 6)"
      ]
     },
     "execution_count": 45,
     "metadata": {},
     "output_type": "execute_result"
    }
   ],
   "source": [
    "t[:-1]"
   ]
  },
  {
   "cell_type": "code",
   "execution_count": 46,
   "id": "11fce034",
   "metadata": {},
   "outputs": [],
   "source": [
    "# concatinating tuples:\n",
    "t = (1,2,3)+(4,5,6)"
   ]
  },
  {
   "cell_type": "code",
   "execution_count": 47,
   "id": "0c76217b",
   "metadata": {},
   "outputs": [
    {
     "data": {
      "text/plain": [
       "(1, 2, 3, 4, 5, 6)"
      ]
     },
     "execution_count": 47,
     "metadata": {},
     "output_type": "execute_result"
    }
   ],
   "source": [
    "t"
   ]
  },
  {
   "cell_type": "code",
   "execution_count": 48,
   "id": "ff6a3cea",
   "metadata": {},
   "outputs": [
    {
     "data": {
      "text/plain": [
       "(1, 2, 3, 4, 5, 6, 7, 8, 9)"
      ]
     },
     "execution_count": 48,
     "metadata": {},
     "output_type": "execute_result"
    }
   ],
   "source": [
    "t = (1,2,3,4,5,6,7,8,9)\n",
    "t"
   ]
  },
  {
   "cell_type": "code",
   "execution_count": 49,
   "id": "06334b74",
   "metadata": {},
   "outputs": [],
   "source": [
    "del t"
   ]
  },
  {
   "cell_type": "code",
   "execution_count": 51,
   "id": "6e39e35b",
   "metadata": {},
   "outputs": [
    {
     "ename": "NameError",
     "evalue": "name 't' is not defined",
     "output_type": "error",
     "traceback": [
      "\u001b[1;31m---------------------------------------------------------------------------\u001b[0m",
      "\u001b[1;31mNameError\u001b[0m                                 Traceback (most recent call last)",
      "\u001b[1;32m<ipython-input-51-c104932a779b>\u001b[0m in \u001b[0;36m<module>\u001b[1;34m\u001b[0m\n\u001b[1;32m----> 1\u001b[1;33m \u001b[0mt\u001b[0m \u001b[1;31m# its no more longer defined because we have deleted it.\u001b[0m\u001b[1;33m\u001b[0m\u001b[1;33m\u001b[0m\u001b[0m\n\u001b[0m",
      "\u001b[1;31mNameError\u001b[0m: name 't' is not defined"
     ]
    }
   ],
   "source": [
    "t # its no more longer defined because we have deleted it."
   ]
  },
  {
   "cell_type": "code",
   "execution_count": 54,
   "id": "2b7879ca",
   "metadata": {},
   "outputs": [
    {
     "data": {
      "text/plain": [
       "('vikas', 'vikas', 'vikas', 'vikas', 'vikas')"
      ]
     },
     "execution_count": 54,
     "metadata": {},
     "output_type": "execute_result"
    }
   ],
   "source": [
    "t = ((\"vikas\",) *5) # if we remove comma then it will give in string\n",
    "t"
   ]
  },
  {
   "cell_type": "code",
   "execution_count": 55,
   "id": "92688576",
   "metadata": {},
   "outputs": [
    {
     "name": "stdout",
     "output_type": "stream",
     "text": [
      "False\n"
     ]
    }
   ],
   "source": [
    "t = (1,2,3,4,5,6)\n",
    "\n",
    "print(7 in t)"
   ]
  },
  {
   "cell_type": "code",
   "execution_count": 57,
   "id": "ce26c2d6",
   "metadata": {},
   "outputs": [
    {
     "name": "stdout",
     "output_type": "stream",
     "text": [
      "True\n"
     ]
    }
   ],
   "source": [
    "print(1 in t)"
   ]
  },
  {
   "cell_type": "code",
   "execution_count": 58,
   "id": "a23f610d",
   "metadata": {},
   "outputs": [
    {
     "data": {
      "text/plain": [
       "6"
      ]
     },
     "execution_count": 58,
     "metadata": {},
     "output_type": "execute_result"
    }
   ],
   "source": [
    "len(t)"
   ]
  },
  {
   "cell_type": "code",
   "execution_count": 63,
   "id": "9e1ca10b",
   "metadata": {},
   "outputs": [
    {
     "name": "stdout",
     "output_type": "stream",
     "text": [
      "[1, 2, 3, 4, 5, 6]\n"
     ]
    }
   ],
   "source": [
    "print(sorted(t))"
   ]
  },
  {
   "cell_type": "code",
   "execution_count": 64,
   "id": "9f294a12",
   "metadata": {},
   "outputs": [
    {
     "data": {
      "text/plain": [
       "1"
      ]
     },
     "execution_count": 64,
     "metadata": {},
     "output_type": "execute_result"
    }
   ],
   "source": [
    "min(t)"
   ]
  },
  {
   "cell_type": "code",
   "execution_count": 65,
   "id": "baaf341d",
   "metadata": {},
   "outputs": [
    {
     "data": {
      "text/plain": [
       "6"
      ]
     },
     "execution_count": 65,
     "metadata": {},
     "output_type": "execute_result"
    }
   ],
   "source": [
    "max(t)"
   ]
  },
  {
   "cell_type": "code",
   "execution_count": 66,
   "id": "f213239a",
   "metadata": {},
   "outputs": [
    {
     "data": {
      "text/plain": [
       "21"
      ]
     },
     "execution_count": 66,
     "metadata": {},
     "output_type": "execute_result"
    }
   ],
   "source": [
    "sum(t)"
   ]
  },
  {
   "cell_type": "code",
   "execution_count": null,
   "id": "b43e99e1",
   "metadata": {},
   "outputs": [],
   "source": []
  },
  {
   "cell_type": "code",
   "execution_count": null,
   "id": "b905ef9c",
   "metadata": {},
   "outputs": [],
   "source": []
  }
 ],
 "metadata": {
  "kernelspec": {
   "display_name": "Python 3",
   "language": "python",
   "name": "python3"
  },
  "language_info": {
   "codemirror_mode": {
    "name": "ipython",
    "version": 3
   },
   "file_extension": ".py",
   "mimetype": "text/x-python",
   "name": "python",
   "nbconvert_exporter": "python",
   "pygments_lexer": "ipython3",
   "version": "3.8.10"
  }
 },
 "nbformat": 4,
 "nbformat_minor": 5
}

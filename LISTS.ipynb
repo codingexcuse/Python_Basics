{
 "cells": [
  {
   "cell_type": "code",
   "execution_count": 13,
   "id": "5d5b787b",
   "metadata": {},
   "outputs": [],
   "source": [
    "# Lists:   append and extend\n",
    "lst =[\"one\",\"two\",\"three\"]\n",
    "lst2 =[\"four\",\"five\"]\n"
   ]
  },
  {
   "cell_type": "code",
   "execution_count": 9,
   "id": "41ffb05c",
   "metadata": {},
   "outputs": [],
   "source": [
    "lst.append(lst2)"
   ]
  },
  {
   "cell_type": "code",
   "execution_count": 10,
   "id": "aab8a05c",
   "metadata": {},
   "outputs": [
    {
     "name": "stdout",
     "output_type": "stream",
     "text": [
      "['one', 'two', 'three', ['four', 'five']]\n"
     ]
    }
   ],
   "source": [
    "print(lst)"
   ]
  },
  {
   "cell_type": "code",
   "execution_count": 14,
   "id": "4c5af71a",
   "metadata": {},
   "outputs": [],
   "source": [
    "lst.extend(lst2)"
   ]
  },
  {
   "cell_type": "code",
   "execution_count": 15,
   "id": "04a6fda7",
   "metadata": {},
   "outputs": [
    {
     "name": "stdout",
     "output_type": "stream",
     "text": [
      "['one', 'two', 'three', 'four', 'five']\n"
     ]
    }
   ],
   "source": [
    "print(lst)"
   ]
  },
  {
   "cell_type": "code",
   "execution_count": 16,
   "id": "ef62d6df",
   "metadata": {},
   "outputs": [],
   "source": [
    "lst =[\"one\",\"two\",\"three\",\"four\",\"five\"]\n"
   ]
  },
  {
   "cell_type": "code",
   "execution_count": 17,
   "id": "28137daf",
   "metadata": {},
   "outputs": [
    {
     "name": "stdout",
     "output_type": "stream",
     "text": [
      "['one', 'three', 'four', 'five']\n",
      "three\n",
      "['one', 'four', 'five']\n"
     ]
    }
   ],
   "source": [
    "del lst[1]\n",
    "print(lst)\n",
    "\n",
    "a=lst.pop(1)\n",
    "print(a)\n",
    "\n",
    "print(lst)"
   ]
  },
  {
   "cell_type": "code",
   "execution_count": 21,
   "id": "002ba4f3",
   "metadata": {},
   "outputs": [
    {
     "name": "stdout",
     "output_type": "stream",
     "text": [
      "['one', 'two', 'four', 'five']\n"
     ]
    }
   ],
   "source": [
    "lst =[\"one\",\"two\",\"three\",\"four\",\"five\"]\n",
    "lst.remove(\"three\")\n",
    "print(lst)"
   ]
  },
  {
   "cell_type": "code",
   "execution_count": 36,
   "id": "f105a8c2",
   "metadata": {},
   "outputs": [
    {
     "name": "stdout",
     "output_type": "stream",
     "text": [
      "['five', 'four', 'three', 'two', 'one']\n"
     ]
    }
   ],
   "source": [
    "# Reverse the list:\n",
    "\n",
    "lst =[\"one\",\"two\",\"three\",\"four\",\"five\"]\n",
    "#    lst[::-1]\n",
    "#       or\n",
    "#    lst.reverse()\n",
    "print(lst)"
   ]
  },
  {
   "cell_type": "code",
   "execution_count": 37,
   "id": "ba853c49",
   "metadata": {},
   "outputs": [
    {
     "name": "stdout",
     "output_type": "stream",
     "text": [
      "AWS\n",
      "ML\n",
      "AI\n",
      "web development\n"
     ]
    }
   ],
   "source": [
    "# keyword in is used in list to check either its there in list or not:\n",
    "lst =[\"one\",\"two\",\"three\",\"four\",\"five\",\"six\"]\n",
    "\n",
    "if \"two\" in lst:\n",
    "    print(\"AWS\")\n",
    "if \"six\" in lst:\n",
    "    print(\"ML\")\n",
    "# .lower() converts into lower and check it:\n",
    "if \"Three\".lower() in lst:\n",
    "    print(\"AI\")\n",
    "if \"seven\" not in lst:\n",
    "    print(\"web development\")\n",
    "    \n",
    "    \n"
   ]
  },
  {
   "cell_type": "code",
   "execution_count": 40,
   "id": "38f63c50",
   "metadata": {},
   "outputs": [
    {
     "name": "stdout",
     "output_type": "stream",
     "text": [
      "{1, 2, 3, 4, 5, 7, 9}\n"
     ]
    }
   ],
   "source": [
    "# sorting of list:\n",
    "lst =[1,4,2,7,5,9,3,5]\n",
    "print(set(sorted(lst)))"
   ]
  },
  {
   "cell_type": "code",
   "execution_count": 52,
   "id": "6961415c",
   "metadata": {},
   "outputs": [
    {
     "name": "stdout",
     "output_type": "stream",
     "text": [
      "sorted_list: [9, 7, 5, 4, 3, 2, 1]\n",
      "[1, 2, 3, 4, 5, 5, 7, 9]\n"
     ]
    }
   ],
   "source": [
    "# reverese of the list:\n",
    "lst =[1,4,2,7,5,9,3,5]\n",
    "\n",
    "# this is descending order:\n",
    "print(\"sorted_list:\",sorted(set(lst),reverse=True))\n",
    "\n",
    "# this is ascending order: \n",
    "lst.sort()\n",
    "print(lst)"
   ]
  },
  {
   "cell_type": "code",
   "execution_count": 53,
   "id": "5597da1c",
   "metadata": {},
   "outputs": [
    {
     "ename": "TypeError",
     "evalue": "'<' not supported between instances of 'str' and 'float'",
     "output_type": "error",
     "traceback": [
      "\u001b[1;31m---------------------------------------------------------------------------\u001b[0m",
      "\u001b[1;31mTypeError\u001b[0m                                 Traceback (most recent call last)",
      "\u001b[1;32m<ipython-input-53-28c5e8b4b12f>\u001b[0m in \u001b[0;36m<module>\u001b[1;34m\u001b[0m\n\u001b[0;32m      1\u001b[0m \u001b[0mlst\u001b[0m \u001b[1;33m=\u001b[0m\u001b[1;33m[\u001b[0m\u001b[1;36m1\u001b[0m\u001b[1;33m,\u001b[0m\u001b[1;36m2\u001b[0m\u001b[1;33m,\u001b[0m\u001b[1;36m3\u001b[0m\u001b[1;33m,\u001b[0m\u001b[1;36m2.6\u001b[0m\u001b[1;33m,\u001b[0m\u001b[1;34m\"a\"\u001b[0m\u001b[1;33m]\u001b[0m\u001b[1;33m\u001b[0m\u001b[1;33m\u001b[0m\u001b[0m\n\u001b[1;32m----> 2\u001b[1;33m \u001b[0mprint\u001b[0m\u001b[1;33m(\u001b[0m\u001b[0mlst\u001b[0m\u001b[1;33m.\u001b[0m\u001b[0msort\u001b[0m\u001b[1;33m(\u001b[0m\u001b[1;33m)\u001b[0m\u001b[1;33m)\u001b[0m\u001b[1;33m\u001b[0m\u001b[1;33m\u001b[0m\u001b[0m\n\u001b[0m",
      "\u001b[1;31mTypeError\u001b[0m: '<' not supported between instances of 'str' and 'float'"
     ]
    }
   ],
   "source": [
    "lst =[1,2,3,2.6,\"a\"]\n",
    "print(lst.sort())"
   ]
  },
  {
   "cell_type": "code",
   "execution_count": 1,
   "id": "a9f8b6c7",
   "metadata": {},
   "outputs": [
    {
     "name": "stdout",
     "output_type": "stream",
     "text": [
      "original_list:  [1, 2, 3, 4, 5, 6]\n"
     ]
    }
   ],
   "source": [
    "# Multiple References:\n",
    "\n",
    "lst=[1,2,3,4,5]\n",
    "my_list = lst        # if u do any changes it affects original list   \n",
    "my_list.append(6)\n",
    " \n",
    "print('original_list: ',lst)\n"
   ]
  },
  {
   "cell_type": "code",
   "execution_count": 6,
   "id": "4ec788d2",
   "metadata": {},
   "outputs": [
    {
     "name": "stdout",
     "output_type": "stream",
     "text": [
      "['one', 'two', 'three', 'four', 'five']\n",
      "['this', 'is', 'applied', 'ML', 'course']\n"
     ]
    }
   ],
   "source": [
    "# string split and create List:\n",
    "s = \"one,two,three,four,five\"\n",
    "slist = s.split(\",\")\n",
    "print(slist)\n",
    "\n",
    "my_string = \"this is applied ML course\"\n",
    "my_list = my_string.split()\n",
    "print(my_list)\n"
   ]
  },
  {
   "cell_type": "code",
   "execution_count": 10,
   "id": "3af5b382",
   "metadata": {},
   "outputs": [
    {
     "name": "stdout",
     "output_type": "stream",
     "text": [
      "35\n"
     ]
    }
   ],
   "source": [
    "# list indexing:\n",
    "lst = [1,23,34,35]\n",
    "#lst[2]\n",
    "\n",
    "# print last element in list using -ve num:\n",
    "print(lst[-1])"
   ]
  },
  {
   "cell_type": "code",
   "execution_count": 20,
   "id": "3c9ef2e6",
   "metadata": {},
   "outputs": [
    {
     "name": "stdout",
     "output_type": "stream",
     "text": [
      "[10, 20, 30, 40, 50, 60, 70, 80]\n",
      "[10, 20, 30, 40]\n",
      "[10, 30, 50, 70]\n",
      "[10, 20, 30, 40, 50, 60, 70, 80]\n"
     ]
    }
   ],
   "source": [
    "# List slicing:\n",
    " \n",
    "numbers = [10, 20, 30, 40, 50,60,70,80]\n",
    "print(numbers[::])\n",
    "# print elements from index 0 to 3:\n",
    "print(numbers[0:4])\n",
    "# print alternate numbers in the list:\n",
    "print(numbers[::2])\n",
    "# print elements start from 0 through rest of the list:\n",
    "print(numbers[0::])"
   ]
  },
  {
   "cell_type": "code",
   "execution_count": 21,
   "id": "db6e41a2",
   "metadata": {},
   "outputs": [
    {
     "data": {
      "text/plain": [
       "[1, 2, 3, 4, 'five', 'six']"
      ]
     },
     "execution_count": 21,
     "metadata": {},
     "output_type": "execute_result"
    }
   ],
   "source": [
    "# list extend using +:\n",
    "lst = [1,2,3,4]\n",
    "lst1 = [\"five\",\"six\"]\n",
    "new_list = lst + lst1\n",
    "new_list"
   ]
  },
  {
   "cell_type": "code",
   "execution_count": 26,
   "id": "57181b1a",
   "metadata": {},
   "outputs": [
    {
     "name": "stdout",
     "output_type": "stream",
     "text": [
      "3\n",
      "2\n"
     ]
    }
   ],
   "source": [
    "# list count:\n",
    "lst =[1,2,4,2,5,6,4,6,7,8,9,10,101,101,10,101,7,7,8,3,3,3]\n",
    "\n",
    "# frequency of 3 in list:\n",
    "print(lst.count(3))\n",
    "\n",
    "# frequency of 10 in list:\n",
    "print(lst.count(10))\n"
   ]
  },
  {
   "cell_type": "code",
   "execution_count": 28,
   "id": "b6c6af32",
   "metadata": {},
   "outputs": [
    {
     "name": "stdout",
     "output_type": "stream",
     "text": [
      "one\n",
      "two\n",
      "three\n",
      "4\n",
      "5\n",
      "6\n",
      "7.23\n",
      "891011\n"
     ]
    }
   ],
   "source": [
    "# list looping:\n",
    "lst = [\"one\",\"two\",\"three\",4,5,6,7.23,891011]\n",
    "for i in lst:\n",
    "    print(i)"
   ]
  },
  {
   "cell_type": "code",
   "execution_count": 33,
   "id": "1e175242",
   "metadata": {},
   "outputs": [],
   "source": [
    "lst = [1,2,3,4,5,6,7,8,9,10]\n"
   ]
  },
  {
   "cell_type": "code",
   "execution_count": 34,
   "id": "ac0ae56d",
   "metadata": {},
   "outputs": [
    {
     "name": "stdout",
     "output_type": "stream",
     "text": [
      "[1, 4, 9, 16, 25, 36, 49, 64, 81, 100]\n"
     ]
    }
   ],
   "source": [
    "print(list(map(lambda x:x**2,lst)))\n"
   ]
  },
  {
   "cell_type": "code",
   "execution_count": 37,
   "id": "6fdc3825",
   "metadata": {},
   "outputs": [
    {
     "name": "stdout",
     "output_type": "stream",
     "text": [
      "[2, 4, 6, 8, 10]\n"
     ]
    }
   ],
   "source": [
    "print(list(filter(lambda x:(x%2==0),lst)))"
   ]
  },
  {
   "cell_type": "code",
   "execution_count": 42,
   "id": "8beead45",
   "metadata": {},
   "outputs": [
    {
     "name": "stdout",
     "output_type": "stream",
     "text": [
      "[0, 1, 4, 9, 16, 25, 36, 49, 64, 81]\n",
      "[0, 1, 4, 9, 16, 25, 36, 49, 64, 81]\n"
     ]
    }
   ],
   "source": [
    "# print first 10 numbers of squares:\n",
    "lst = []\n",
    "for i in range(10):\n",
    "    lst.append(i**2)\n",
    "print(lst)\n",
    "\n",
    "squares = [i**2 for i in range(10)]\n",
    "print(squares)"
   ]
  },
  {
   "cell_type": "code",
   "execution_count": 50,
   "id": "a07a6131",
   "metadata": {},
   "outputs": [
    {
     "name": "stdout",
     "output_type": "stream",
     "text": [
      "[-20, -40, 20, 40, 100]\n",
      "[10, 20, 50]\n",
      "[(-10, 100), (-20, 400), (10, 100), (20, 400), (50, 2500)]\n"
     ]
    }
   ],
   "source": [
    "lst = [-10,-20,10,20,50]\n",
    "\n",
    "# double the values and display it:\n",
    "double = [i*2 for i in lst]\n",
    "print(double)\n",
    "\n",
    "# filter the numbers in the list and display only +ve nums:\n",
    "print(list(filter(lambda x:x>=0,lst)))\n",
    "\n",
    "# create tuples:(number,square_number):\n",
    "tup = [(i ,i**2) for i in lst]\n",
    "print(tup)"
   ]
  },
  {
   "cell_type": "code",
   "execution_count": 57,
   "id": "6848d69d",
   "metadata": {},
   "outputs": [
    {
     "name": "stdout",
     "output_type": "stream",
     "text": [
      "[[1, 5, 9], [2, 6, 10], [3, 7, 11], [4, 8, 12]]\n"
     ]
    }
   ],
   "source": [
    "# list comprehensions:\n",
    "matrix =[[1,2,3,4],\n",
    "         [5,6,7,8],\n",
    "         [9,10,11,12]]\n",
    "\n",
    "transposed =[]\n",
    "for i in range(4):\n",
    "    lst=[]\n",
    "    for row in matrix:\n",
    "        lst.append(row[i])\n",
    "    transposed.append(lst)\n",
    "    \n",
    "print(transposed)\n"
   ]
  },
  {
   "cell_type": "code",
   "execution_count": 58,
   "id": "e5c4b3f7",
   "metadata": {},
   "outputs": [
    {
     "name": "stdout",
     "output_type": "stream",
     "text": [
      "[[1, 5, 9], [2, 6, 10], [3, 7, 11], [4, 8, 12]]\n"
     ]
    }
   ],
   "source": [
    "transposed = [[row[i] for row in matrix]for i in range(4)]\n",
    "print(transposed)"
   ]
  },
  {
   "cell_type": "code",
   "execution_count": 60,
   "id": "f24abf05",
   "metadata": {},
   "outputs": [
    {
     "name": "stdout",
     "output_type": "stream",
     "text": [
      "we are going to take the  0 th element of each row\n",
      "the row we are considering : [1, 2, 3, 4] and we are going to add 1 to a temporary list\n",
      "the row we are considering : [2, 3, 4, 5] and we are going to add 2 to a temporary list\n",
      "the row we are considering : [3, 4, 5, 6] and we are going to add 3 to a temporary list\n",
      "the  0 th column elements =  0 th elements in every row are = [1, 2, 3]\n",
      "==================================================\n",
      "we are going to take the  1 th element of each row\n",
      "the row we are considering : [1, 2, 3, 4] and we are going to add 2 to a temporary list\n",
      "the row we are considering : [2, 3, 4, 5] and we are going to add 3 to a temporary list\n",
      "the row we are considering : [3, 4, 5, 6] and we are going to add 4 to a temporary list\n",
      "the  1 th column elements =  1 th elements in every row are = [2, 3, 4]\n",
      "==================================================\n",
      "we are going to take the  2 th element of each row\n",
      "the row we are considering : [1, 2, 3, 4] and we are going to add 3 to a temporary list\n",
      "the row we are considering : [2, 3, 4, 5] and we are going to add 4 to a temporary list\n",
      "the row we are considering : [3, 4, 5, 6] and we are going to add 5 to a temporary list\n",
      "the  2 th column elements =  2 th elements in every row are = [3, 4, 5]\n",
      "==================================================\n",
      "we are going to take the  3 th element of each row\n",
      "the row we are considering : [1, 2, 3, 4] and we are going to add 4 to a temporary list\n",
      "the row we are considering : [2, 3, 4, 5] and we are going to add 5 to a temporary list\n",
      "the row we are considering : [3, 4, 5, 6] and we are going to add 6 to a temporary list\n",
      "the  3 th column elements =  3 th elements in every row are = [4, 5, 6]\n",
      "==================================================\n",
      "[[1, 2, 3], [2, 3, 4], [3, 4, 5], [4, 5, 6]]\n"
     ]
    }
   ],
   "source": [
    "\n",
    "matrix = [\n",
    "\n",
    "[1, 2, 3, 4],\n",
    "\n",
    "[2, 3, 4, 5],\n",
    "\n",
    "[3, 4, 5, 6]]\n",
    "\n",
    "transposed = []\n",
    "\n",
    "for i in range(4):\n",
    "    print(\"we are going to take the \",i,\"th element of each row\")\n",
    "    \n",
    "    lst = []\n",
    "    \n",
    "    for row in matrix:\n",
    "\n",
    "        print(\"the row we are considering :\", row, \"and we are going to add\", row[i],\"to a temporary list\")\n",
    "\n",
    "        lst.append(row[i])\n",
    "\n",
    "    print(\"the \",i,\"th column elements = \", i ,\"th elements in every row are =\", lst)\n",
    "    \n",
    "    transposed.append(lst)\n",
    "\n",
    "    print(\"=\"*50)\n",
    "\n",
    "print(transposed)"
   ]
  },
  {
   "cell_type": "code",
   "execution_count": null,
   "id": "d0648f38",
   "metadata": {},
   "outputs": [],
   "source": []
  }
 ],
 "metadata": {
  "kernelspec": {
   "display_name": "Python 3",
   "language": "python",
   "name": "python3"
  },
  "language_info": {
   "codemirror_mode": {
    "name": "ipython",
    "version": 3
   },
   "file_extension": ".py",
   "mimetype": "text/x-python",
   "name": "python",
   "nbconvert_exporter": "python",
   "pygments_lexer": "ipython3",
   "version": "3.8.8"
  }
 },
 "nbformat": 4,
 "nbformat_minor": 5
}
